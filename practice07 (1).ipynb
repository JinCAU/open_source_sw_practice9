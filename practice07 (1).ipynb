{
 "cells": [
  {
   "cell_type": "code",
   "execution_count": 3,
   "id": "688ce2f8",
   "metadata": {},
   "outputs": [
    {
     "name": "stdout",
     "output_type": "stream",
     "text": [
      "Requirement already up-to-date: scikit-learn in c:\\users\\sw\\appdata\\local\\programs\\python\\python37\\lib\\site-packages (1.0.2)\n",
      "Requirement already satisfied, skipping upgrade: joblib>=0.11 in c:\\users\\sw\\appdata\\local\\programs\\python\\python37\\lib\\site-packages (from scikit-learn) (1.2.0)\n",
      "Requirement already satisfied, skipping upgrade: threadpoolctl>=2.0.0 in c:\\users\\sw\\appdata\\local\\programs\\python\\python37\\lib\\site-packages (from scikit-learn) (3.1.0)\n",
      "Requirement already satisfied, skipping upgrade: numpy>=1.14.6 in c:\\users\\sw\\appdata\\local\\programs\\python\\python37\\lib\\site-packages (from scikit-learn) (1.18.0)\n",
      "Requirement already satisfied, skipping upgrade: scipy>=1.1.0 in c:\\users\\sw\\appdata\\local\\programs\\python\\python37\\lib\\site-packages (from scikit-learn) (1.7.3)\n"
     ]
    },
    {
     "name": "stderr",
     "output_type": "stream",
     "text": [
      "WARNING: You are using pip version 19.2.3, however version 22.3 is available.\n",
      "You should consider upgrading via the 'python -m pip install --upgrade pip' command.\n"
     ]
    },
    {
     "name": "stdout",
     "output_type": "stream",
     "text": [
      "Collecting matplotlib\n",
      "  Downloading https://files.pythonhosted.org/packages/df/3f/6093a23565d0f50ce433f56223fcc34af6c912cd4331dc582ba29d9b5a17/matplotlib-3.5.3-cp37-cp37m-win_amd64.whl (7.2MB)\n",
      "Requirement already satisfied, skipping upgrade: python-dateutil>=2.7 in c:\\users\\sw\\appdata\\local\\programs\\python\\python37\\lib\\site-packages (from matplotlib) (2.8.2)\n",
      "Collecting kiwisolver>=1.0.1 (from matplotlib)\n",
      "  Downloading https://files.pythonhosted.org/packages/03/93/11790e8e81b89acd3a1c8a6b501f8a05b1c41beee0990582699cdda29557/kiwisolver-1.4.4-cp37-cp37m-win_amd64.whl (54kB)\n",
      "Requirement already satisfied, skipping upgrade: pyparsing>=2.2.1 in c:\\users\\sw\\appdata\\local\\programs\\python\\python37\\lib\\site-packages (from matplotlib) (3.0.9)\n",
      "Requirement already satisfied, skipping upgrade: packaging>=20.0 in c:\\users\\sw\\appdata\\local\\programs\\python\\python37\\lib\\site-packages (from matplotlib) (21.3)\n",
      "Collecting cycler>=0.10 (from matplotlib)\n",
      "  Downloading https://files.pythonhosted.org/packages/5c/f9/695d6bedebd747e5eb0fe8fad57b72fdf25411273a39791cde838d5a8f51/cycler-0.11.0-py3-none-any.whl\n",
      "Requirement already satisfied, skipping upgrade: pillow>=6.2.0 in c:\\users\\sw\\appdata\\local\\programs\\python\\python37\\lib\\site-packages (from matplotlib) (6.2.1)\n",
      "Requirement already satisfied, skipping upgrade: numpy>=1.17 in c:\\users\\sw\\appdata\\local\\programs\\python\\python37\\lib\\site-packages (from matplotlib) (1.18.0)\n",
      "Collecting fonttools>=4.22.0 (from matplotlib)\n",
      "  Downloading https://files.pythonhosted.org/packages/e3/d9/e9bae85e84737e76ebbcbea13607236da0c0699baed0ae4f1151b728a608/fonttools-4.38.0-py3-none-any.whl (965kB)\n",
      "Requirement already satisfied, skipping upgrade: six>=1.5 in c:\\users\\sw\\appdata\\local\\programs\\python\\python37\\lib\\site-packages (from python-dateutil>=2.7->matplotlib) (1.13.0)\n",
      "Requirement already satisfied, skipping upgrade: typing-extensions; python_version < \"3.8\" in c:\\users\\sw\\appdata\\roaming\\python\\python37\\site-packages (from kiwisolver>=1.0.1->matplotlib) (4.1.1)\n",
      "Installing collected packages: kiwisolver, cycler, fonttools, matplotlib\n",
      "Successfully installed cycler-0.11.0 fonttools-4.38.0 kiwisolver-1.4.4 matplotlib-3.5.3\n"
     ]
    },
    {
     "name": "stderr",
     "output_type": "stream",
     "text": [
      "WARNING: You are using pip version 19.2.3, however version 22.3 is available.\n",
      "You should consider upgrading via the 'python -m pip install --upgrade pip' command.\n",
      "Matplotlib is building the font cache; this may take a moment.\n"
     ]
    }
   ],
   "source": [
    "!pip install -U scikit-learn\n",
    "!pip install -U matplotlib\n",
    "import sklearn.datasets\n",
    "\n",
    "import matplotlib.pyplot as plt \n",
    "%matplotlib inline"
   ]
  },
  {
   "cell_type": "markdown",
   "id": "0b7ffe50",
   "metadata": {},
   "source": [
    "### 1. Load digit dataset from scikit learn\n",
    "hints: sklearn.datasets.load_digits"
   ]
  },
  {
   "cell_type": "code",
   "execution_count": 4,
   "id": "43be866c",
   "metadata": {},
   "outputs": [],
   "source": [
    "digits=sklearn.datasets.load_digits()"
   ]
  },
  {
   "cell_type": "markdown",
   "id": "85924eb0",
   "metadata": {},
   "source": [
    "### 2. Plot the first data in digit dataset with gray scale\n",
    "hints: plt.matshow, plt.gray()"
   ]
  },
  {
   "cell_type": "code",
   "execution_count": 5,
   "id": "312e2668",
   "metadata": {},
   "outputs": [
    {
     "data": {
      "image/png": "[encoded data removed]",
      "text/plain": [
       "<Figure size 480x480 with 1 Axes>"
      ]
     },
     "metadata": {},
     "output_type": "display_data"
    }
   ],
   "source": [
    "img=digits.images[0]\n",
    "plt.matshow(img)\n",
    "plt.gray()\n",
    "plt.title(\"Label : {}\".format(digits.target[0]))\n",
    "plt.show()"
   ]
  },
  {
   "cell_type": "markdown",
   "id": "fa7eb246",
   "metadata": {},
   "source": [
    "### 3. Load iris dataset from scikit learn\n",
    "hints: sklearn.datasets.load_iris"
   ]
  },
  {
   "cell_type": "code",
   "execution_count": 6,
   "id": "fe1baad1",
   "metadata": {},
   "outputs": [],
   "source": [
    "iris=sklearn.datasets.load_iris()"
   ]
  },
  {
   "cell_type": "markdown",
   "id": "7d5ff9ec",
   "metadata": {},
   "source": [
    "### 4. Print the feature names of iris dataset\n",
    "hints: feature_names"
   ]
  },
  {
   "cell_type": "code",
   "execution_count": 7,
   "id": "58aca53d",
   "metadata": {},
   "outputs": [
    {
     "name": "stdout",
     "output_type": "stream",
     "text": [
      "['sepal length (cm)', 'sepal width (cm)', 'petal length (cm)', 'petal width (cm)']\n"
     ]
    }
   ],
   "source": [
    "print(iris.feature_names)"
   ]
  },
  {
   "cell_type": "markdown",
   "id": "619cc7f7",
   "metadata": {},
   "source": [
    "### 5. Plot feature vectors with first two dimension in iris dataset\n",
    "hints: plt.scatter"
   ]
  },
  {
   "cell_type": "code",
   "execution_count": 8,
   "id": "6f5c6ec2",
   "metadata": {
    "scrolled": true
   },
   "outputs": [
    {
     "data": {
      "text/plain": [
       "<matplotlib.collections.PathCollection at 0x2c66fc94888>"
      ]
     },
     "execution_count": 8,
     "metadata": {},
     "output_type": "execute_result"
    },
    {
     "data": {
      "image/png": "[encoded data removed]",
      "text/plain": [
       "<Figure size 640x480 with 1 Axes>"
      ]
     },
     "metadata": {},
     "output_type": "display_data"
    }
   ],
   "source": [
    "plt.scatter(iris.data[:, 0], iris.data[:, 1])"
   ]
  },
  {
   "cell_type": "markdown",
   "id": "c224fcb1",
   "metadata": {},
   "source": [
    "### 6. Load house dataset from scikit learn\n",
    "hints: sklearn.datasets.load_boston"
   ]
  },
  {
   "cell_type": "code",
   "execution_count": 9,
   "id": "18f3a44d",
   "metadata": {},
   "outputs": [
    {
     "name": "stderr",
     "output_type": "stream",
     "text": [
      "c:\\users\\sw\\appdata\\local\\programs\\python\\python37\\lib\\site-packages\\sklearn\\utils\\deprecation.py:87: FutureWarning: Function load_boston is deprecated; `load_boston` is deprecated in 1.0 and will be removed in 1.2.\n",
      "\n",
      "    The Boston housing prices dataset has an ethical problem. You can refer to\n",
      "    the documentation of this function for further details.\n",
      "\n",
      "    The scikit-learn maintainers therefore strongly discourage the use of this\n",
      "    dataset unless the purpose of the code is to study and educate about\n",
      "    ethical issues in data science and machine learning.\n",
      "\n",
      "    In this special case, you can fetch the dataset from the original\n",
      "    source::\n",
      "\n",
      "        import pandas as pd\n",
      "        import numpy as np\n",
      "\n",
      "\n",
      "        data_url = \"http://lib.stat.cmu.edu/datasets/boston\"\n",
      "        raw_df = pd.read_csv(data_url, sep=\"\\s+\", skiprows=22, header=None)\n",
      "        data = np.hstack([raw_df.values[::2, :], raw_df.values[1::2, :2]])\n",
      "        target = raw_df.values[1::2, 2]\n",
      "\n",
      "    Alternative datasets include the California housing dataset (i.e.\n",
      "    :func:`~sklearn.datasets.fetch_california_housing`) and the Ames housing\n",
      "    dataset. You can load the datasets as follows::\n",
      "\n",
      "        from sklearn.datasets import fetch_california_housing\n",
      "        housing = fetch_california_housing()\n",
      "\n",
      "    for the California housing dataset and::\n",
      "\n",
      "        from sklearn.datasets import fetch_openml\n",
      "        housing = fetch_openml(name=\"house_prices\", as_frame=True)\n",
      "\n",
      "    for the Ames housing dataset.\n",
      "    \n",
      "  warnings.warn(msg, category=FutureWarning)\n"
     ]
    }
   ],
   "source": [
    "boston = sklearn.datasets.load_boston()"
   ]
  },
  {
   "cell_type": "markdown",
   "id": "9140c4d9",
   "metadata": {},
   "source": [
    "### 7. Print the feature names of boston dataset\n",
    "hints: feature_names"
   ]
  },
  {
   "cell_type": "code",
   "execution_count": 10,
   "id": "126ca0cc",
   "metadata": {},
   "outputs": [
    {
     "name": "stdout",
     "output_type": "stream",
     "text": [
      "['CRIM' 'ZN' 'INDUS' 'CHAS' 'NOX' 'RM' 'AGE' 'DIS' 'RAD' 'TAX' 'PTRATIO'\n",
      " 'B' 'LSTAT']\n"
     ]
    }
   ],
   "source": [
    "print(boston.feature_names)"
   ]
  },
  {
   "cell_type": "markdown",
   "id": "84b9ac24",
   "metadata": {},
   "source": [
    "### 8. Find the dimension and the number of training dataset and train a linear regression on Boston Dataset\n",
    "\n",
    "hints: use practice 05\n",
    "- use a linear model, $y = \\sum_{i=1}^{d}w_{i}x_{i}+ w_{0}$\n",
    "- find a parameter $\\hat{\\bf w}=[w_{0},w_{1},\\cdots,w_{d}]$\n",
    "- predicte the target value $\\hat{y} = \\hat{\\bf w}^{\\intercal}[x, 1]$\n",
    "- compute the prediction error $\\sum_{i=1}^{n}(y_{i}-\\hat{y}_{i})^{2}/n$"
   ]
  },
  {
   "cell_type": "code",
   "execution_count": 11,
   "id": "f9204fc7",
   "metadata": {},
   "outputs": [
    {
     "name": "stdout",
     "output_type": "stream",
     "text": [
      "506 data are given\n",
      "13 dimensional feature vector\n",
      "(506, 13)\n",
      "(506, 14)\n"
     ]
    }
   ],
   "source": [
    "import numpy as np\n",
    "\n",
    "X = boston.data\n",
    "y = boston.target\n",
    "\n",
    "n, d = X.shape\n",
    "print(\"{} data are given\".format(n))\n",
    "print(\"{} dimensional feature vector\".format(d))\n",
    "print(X.shape)\n",
    "\n",
    "A=np.concatenate([X, np.ones((n,1))], axis=1)\n",
    "print(A.shape)\n",
    "w_hat=np.linalg.pinv(A).dot(y)\n",
    "#predicted value\n",
    "y_hat=A.dot(w_hat)"
   ]
  },
  {
   "cell_type": "code",
   "execution_count": 12,
   "id": "e0d2e7d6",
   "metadata": {},
   "outputs": [
    {
     "name": "stdout",
     "output_type": "stream",
     "text": [
      "MSE 21.894831181729206\n",
      "==== 0th training data ====\n",
      "Feature Input: [6.320e-03 1.800e+01 2.310e+00 0.000e+00 5.380e-01 6.575e+00 6.520e+01\n",
      " 4.090e+00 1.000e+00 2.960e+02 1.530e+01 3.969e+02 4.980e+00]\n",
      "Target Value: 24.0\n",
      "Predicted Value: 30.00384337701682\n",
      "\n",
      "==== 1th training data ====\n",
      "Feature Input: [2.7310e-02 0.0000e+00 7.0700e+00 0.0000e+00 4.6900e-01 6.4210e+00\n",
      " 7.8900e+01 4.9671e+00 2.0000e+00 2.4200e+02 1.7800e+01 3.9690e+02\n",
      " 9.1400e+00]\n",
      "Target Value: 21.6\n",
      "Predicted Value: 25.025562379053135\n",
      "\n",
      "==== 2th training data ====\n",
      "Feature Input: [2.7290e-02 0.0000e+00 7.0700e+00 0.0000e+00 4.6900e-01 7.1850e+00\n",
      " 6.1100e+01 4.9671e+00 2.0000e+00 2.4200e+02 1.7800e+01 3.9283e+02\n",
      " 4.0300e+00]\n",
      "Target Value: 34.7\n",
      "Predicted Value: 30.567596718601642\n",
      "\n",
      "==== 3th training data ====\n",
      "Feature Input: [3.2370e-02 0.0000e+00 2.1800e+00 0.0000e+00 4.5800e-01 6.9980e+00\n",
      " 4.5800e+01 6.0622e+00 3.0000e+00 2.2200e+02 1.8700e+01 3.9463e+02\n",
      " 2.9400e+00]\n",
      "Target Value: 33.4\n",
      "Predicted Value: 28.60703648872816\n",
      "\n",
      "==== 4th training data ====\n",
      "Feature Input: [6.9050e-02 0.0000e+00 2.1800e+00 0.0000e+00 4.5800e-01 7.1470e+00\n",
      " 5.4200e+01 6.0622e+00 3.0000e+00 2.2200e+02 1.8700e+01 3.9690e+02\n",
      " 5.3300e+00]\n",
      "Target Value: 36.2\n",
      "Predicted Value: 27.94352423287305\n",
      "\n",
      "==== 5th training data ====\n",
      "Feature Input: [2.9850e-02 0.0000e+00 2.1800e+00 0.0000e+00 4.5800e-01 6.4300e+00\n",
      " 5.8700e+01 6.0622e+00 3.0000e+00 2.2200e+02 1.8700e+01 3.9412e+02\n",
      " 5.2100e+00]\n",
      "Target Value: 28.7\n",
      "Predicted Value: 25.256284461541103\n",
      "\n",
      "==== 6th training data ====\n",
      "Feature Input: [8.8290e-02 1.2500e+01 7.8700e+00 0.0000e+00 5.2400e-01 6.0120e+00\n",
      " 6.6600e+01 5.5605e+00 5.0000e+00 3.1100e+02 1.5200e+01 3.9560e+02\n",
      " 1.2430e+01]\n",
      "Target Value: 22.9\n",
      "Predicted Value: 23.001808268485338\n",
      "\n",
      "==== 7th training data ====\n",
      "Feature Input: [1.4455e-01 1.2500e+01 7.8700e+00 0.0000e+00 5.2400e-01 6.1720e+00\n",
      " 9.6100e+01 5.9505e+00 5.0000e+00 3.1100e+02 1.5200e+01 3.9690e+02\n",
      " 1.9150e+01]\n",
      "Target Value: 27.1\n",
      "Predicted Value: 19.535988428755978\n",
      "\n",
      "==== 8th training data ====\n",
      "Feature Input: [2.1124e-01 1.2500e+01 7.8700e+00 0.0000e+00 5.2400e-01 5.6310e+00\n",
      " 1.0000e+02 6.0821e+00 5.0000e+00 3.1100e+02 1.5200e+01 3.8663e+02\n",
      " 2.9930e+01]\n",
      "Target Value: 16.5\n",
      "Predicted Value: 11.52363685313031\n",
      "\n",
      "==== 9th training data ====\n",
      "Feature Input: [1.7004e-01 1.2500e+01 7.8700e+00 0.0000e+00 5.2400e-01 6.0040e+00\n",
      " 8.5900e+01 6.5921e+00 5.0000e+00 3.1100e+02 1.5200e+01 3.8671e+02\n",
      " 1.7100e+01]\n",
      "Target Value: 18.9\n",
      "Predicted Value: 18.920262107075928\n",
      "\n"
     ]
    }
   ],
   "source": [
    "print(\"MSE {}\".format(np.mean((y - y_hat)**2)))\n",
    "for i in range(10):\n",
    "    print(\"==== {}th training data ====\".format(i))\n",
    "    print(\"Feature Input: {}\".format(X[i]))\n",
    "    print(\"Target Value: {}\". format(y[i]))\n",
    "    print(\"Predicted Value: {}\\n\". format(A[i].dot(w_hat)))"
   ]
  },
  {
   "cell_type": "markdown",
   "id": "4b0b344a",
   "metadata": {},
   "source": [
    "### 9. Load diabetes dataset and find the dimension of input vector, the number of training data\n",
    "hints: sklearn.datasets.load_diabetes"
   ]
  },
  {
   "cell_type": "code",
   "execution_count": 20,
   "id": "7ec8df11",
   "metadata": {},
   "outputs": [
    {
     "name": "stdout",
     "output_type": "stream",
     "text": [
      "\n",
      "(442, 10)\n",
      "(442, 11)\n",
      "442 data are given\n",
      "10 dimensional feature vector\n"
     ]
    }
   ],
   "source": [
    "diabetes=sklearn.datasets.load_diabetes()\n",
    "\n",
    "print()\n",
    "\n",
    "X=list(diabetes.values())[0]\n",
    "y=list(diabetes.values())[1]\n",
    "n, d = X.shape\n",
    "print(X.shape)\n",
    "A=np.concatenate([X, np.ones((n,1))], axis=1)\n",
    "print(A.shape)\n",
    "w_hat=np.linalg.pinv(A).dot(y)\n",
    "y_hat=A.dot(w_hat)\n",
    "\n",
    "\n",
    "\n",
    "print(\"{} data are given\".format(n))\n",
    "print(\"{} dimensional feature vector\".format(d))\n",
    "\n"
   ]
  },
  {
   "cell_type": "markdown",
   "id": "2454b92d",
   "metadata": {},
   "source": [
    "### 10. Train a linear regression model on diabetes dataset\n",
    "- use a linear model, $y = \\sum_{i=1}^{d}w_{i}x_{i}+ w_{0}$\n",
    "- find a parameter $\\hat{\\bf w}=[w_{0},w_{1},\\cdots,w_{d}]$\n",
    "- predicte the target value $\\hat{y} = \\hat{\\bf w}^{\\intercal}[x, 1]$\n",
    "- compute the prediction error $\\sum_{i=1}^{n}(y_{i}-\\hat{y}_{i})^{2}/n$"
   ]
  },
  {
   "cell_type": "code",
   "execution_count": 21,
   "id": "dcba2c07",
   "metadata": {},
   "outputs": [
    {
     "name": "stdout",
     "output_type": "stream",
     "text": [
      "MSE 2859.6903987680657\n",
      "==== 0th training data ====\n",
      "Feature Input: [ 0.03807591  0.05068012  0.06169621  0.02187235 -0.0442235  -0.03482076\n",
      " -0.04340085 -0.00259226  0.01990842 -0.01764613]\n",
      "Target Value: 151.0\n",
      "Predicted Value: 206.1170697870943\n",
      "\n",
      "==== 1th training data ====\n",
      "Feature Input: [-0.00188202 -0.04464164 -0.05147406 -0.02632783 -0.00844872 -0.01916334\n",
      "  0.07441156 -0.03949338 -0.06832974 -0.09220405]\n",
      "Target Value: 75.0\n",
      "Predicted Value: 68.07234760996373\n",
      "\n",
      "==== 2th training data ====\n",
      "Feature Input: [ 0.08529891  0.05068012  0.04445121 -0.00567061 -0.04559945 -0.03419447\n",
      " -0.03235593 -0.00259226  0.00286377 -0.02593034]\n",
      "Target Value: 141.0\n",
      "Predicted Value: 176.88406035049923\n",
      "\n",
      "==== 3th training data ====\n",
      "Feature Input: [-0.08906294 -0.04464164 -0.01159501 -0.03665645  0.01219057  0.02499059\n",
      " -0.03603757  0.03430886  0.02269202 -0.00936191]\n",
      "Target Value: 206.0\n",
      "Predicted Value: 166.91796558989293\n",
      "\n",
      "==== 4th training data ====\n",
      "Feature Input: [ 0.00538306 -0.04464164 -0.03638469  0.02187235  0.00393485  0.01559614\n",
      "  0.00814208 -0.00259226 -0.03199144 -0.04664087]\n",
      "Target Value: 135.0\n",
      "Predicted Value: 128.459842409327\n",
      "\n",
      "==== 5th training data ====\n",
      "Feature Input: [-0.09269548 -0.04464164 -0.04069594 -0.01944209 -0.06899065 -0.07928784\n",
      "  0.04127682 -0.0763945  -0.04118039 -0.09634616]\n",
      "Target Value: 97.0\n",
      "Predicted Value: 106.34908971549413\n",
      "\n",
      "==== 6th training data ====\n",
      "Feature Input: [-0.04547248  0.05068012 -0.04716281 -0.01599922 -0.04009564 -0.02480001\n",
      "  0.00077881 -0.03949338 -0.06291295 -0.03835666]\n",
      "Target Value: 138.0\n",
      "Predicted Value: 73.8941794736021\n",
      "\n",
      "==== 7th training data ====\n",
      "Feature Input: [ 0.06350368  0.05068012 -0.00189471  0.06662967  0.09061988  0.10891438\n",
      "  0.02286863  0.01770335 -0.03581673  0.00306441]\n",
      "Target Value: 63.0\n",
      "Predicted Value: 118.85378668711121\n",
      "\n",
      "==== 8th training data ====\n",
      "Feature Input: [ 0.04170844  0.05068012  0.06169621 -0.04009932 -0.01395254  0.00620169\n",
      " -0.02867429 -0.00259226 -0.01495648  0.01134862]\n",
      "Target Value: 110.0\n",
      "Predicted Value: 158.81033075835447\n",
      "\n",
      "==== 9th training data ====\n",
      "Feature Input: [-0.07090025 -0.04464164  0.03906215 -0.03321358 -0.01257658 -0.03450761\n",
      " -0.02499266 -0.00259226  0.06773633 -0.01350402]\n",
      "Target Value: 310.0\n",
      "Predicted Value: 213.58408892913616\n",
      "\n"
     ]
    }
   ],
   "source": [
    "print(\"MSE {}\".format(np.mean((y - y_hat)**2)))\n",
    "for i in range(10):\n",
    "    print(\"==== {}th training data ====\".format(i))\n",
    "    print(\"Feature Input: {}\".format(X[i]))\n",
    "    print(\"Target Value: {}\". format(y[i]))\n",
    "    print(\"Predicted Value: {}\\n\". format(A[i].dot(w_hat)))"
   ]
  },
  {
   "cell_type": "code",
   "execution_count": null,
   "id": "7762697c",
   "metadata": {},
   "outputs": [],
   "source": []
  }
 ],
 "metadata": {
  "kernelspec": {
   "display_name": "Python 3 (ipykernel)",
   "language": "python",
   "name": "python3"
  },
  "language_info": {
   "codemirror_mode": {
    "name": "ipython",
    "version": 3
   },
   "file_extension": ".py",
   "mimetype": "text/x-python",
   "name": "python",
   "nbconvert_exporter": "python",
   "pygments_lexer": "ipython3",
   "version": "3.7.6"
  }
 },
 "nbformat": 4,
 "nbformat_minor": 5
}
